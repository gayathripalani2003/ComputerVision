{
 "cells": [
  {
   "cell_type": "code",
   "execution_count": 6,
   "id": "a2940401",
   "metadata": {},
   "outputs": [],
   "source": [
    "from scipy.spatial.transform import Rotation as R"
   ]
  },
  {
   "cell_type": "markdown",
   "id": "837d7485",
   "metadata": {},
   "source": [
    "## Euler Angles:\n",
    "    Euler angles represent a sequence of three rotations about specific axes to describe the orientation.\n",
    "### Componets:\n",
    "  * Roll(Rotation around x axis)\n",
    "  * Pitch(Rotation around y axis)\n",
    "  * Yaw(Rotation around z axis)\n",
    "  \n",
    "## Quaternion:\n",
    "    A quaternion is a four-dimensional complex number used to describe rotations in 3D space.\n",
    "### Components:\n",
    "  * Scalar Part\n",
    "  * Vector Part\n",
    "  \n",
    "## Axes Angles:\n",
    "    Represents a rotation using a single axis (a 3D vector) and an angle (in radians). The axis specifies the direction of rotation, and the angle specifies how much to rotate around that axis.\n",
    "### Components:\n",
    "  * Angle\n",
    "  * Axis"
   ]
  },
  {
   "cell_type": "code",
   "execution_count": null,
   "id": "d6a6eb7f",
   "metadata": {},
   "outputs": [],
   "source": [
    "#Define Euler angles(in radians)\n",
    "euler_angles = [0.1, 0.2, 0.3]  #[roll,pitch,yaw]"
   ]
  },
  {
   "cell_type": "markdown",
   "id": "c15f3b7d",
   "metadata": {},
   "source": [
    "### 1.Euler to Quanternion"
   ]
  },
  {
   "cell_type": "code",
   "execution_count": 8,
   "id": "f45bf1b3",
   "metadata": {
    "scrolled": true
   },
   "outputs": [
    {
     "name": "stdout",
     "output_type": "stream",
     "text": [
      "Quaternion: [0.0342708  0.10602051 0.14357218 0.98334744]\n"
     ]
    }
   ],
   "source": [
    "rotation_euler = R.from_euler('xyz', euler_angles)#Specify order\n",
    "quaternion = rotation_euler.as_quat() # [x,y,z,w]\n",
    "print(\"Quaternion:\", quaternion)"
   ]
  },
  {
   "cell_type": "markdown",
   "id": "d0902836",
   "metadata": {},
   "source": [
    "### 2. Euler to Axis-Angle"
   ]
  },
  {
   "cell_type": "code",
   "execution_count": 9,
   "id": "939ba6cf",
   "metadata": {},
   "outputs": [
    {
     "name": "stdout",
     "output_type": "stream",
     "text": [
      "Axis-Angle: [0.06892461 0.21322593 0.28874894]\n"
     ]
    }
   ],
   "source": [
    "axis_angle = rotation_euler.as_rotvec()  # Axis multiplied by angle in radians\n",
    "print(\"Axis-Angle:\", axis_angle)"
   ]
  },
  {
   "cell_type": "markdown",
   "id": "9e860ed3",
   "metadata": {},
   "source": [
    "### 3. Quaternion to Euler"
   ]
  },
  {
   "cell_type": "code",
   "execution_count": 10,
   "id": "299a5d85",
   "metadata": {},
   "outputs": [
    {
     "name": "stdout",
     "output_type": "stream",
     "text": [
      "Euler from Quaternion: [0.1 0.2 0.3]\n"
     ]
    }
   ],
   "source": [
    "rotation_quaternion = R.from_quat(quaternion)\n",
    "euler_from_quaternion = rotation_quaternion.as_euler('xyz')\n",
    "print(\"Euler from Quaternion:\", euler_from_quaternion)"
   ]
  },
  {
   "cell_type": "markdown",
   "id": "00868e30",
   "metadata": {},
   "source": [
    "### 4. Axis-Angle to Euler"
   ]
  },
  {
   "cell_type": "code",
   "execution_count": 11,
   "id": "5258a23b",
   "metadata": {},
   "outputs": [
    {
     "name": "stdout",
     "output_type": "stream",
     "text": [
      "Euler from Axis-Angle: [0.1 0.2 0.3]\n"
     ]
    }
   ],
   "source": [
    "rotation_axis_angle = R.from_rotvec(axis_angle)\n",
    "euler_from_axis_angle = rotation_axis_angle.as_euler('xyz')\n",
    "print(\"Euler from Axis-Angle:\", euler_from_axis_angle)"
   ]
  },
  {
   "cell_type": "markdown",
   "id": "5210e54b",
   "metadata": {},
   "source": [
    "### 5. Quaternion to Axis-Angle"
   ]
  },
  {
   "cell_type": "code",
   "execution_count": 12,
   "id": "0a8f80c3",
   "metadata": {},
   "outputs": [
    {
     "name": "stdout",
     "output_type": "stream",
     "text": [
      "Axis-Angle from Quaternion: [0.06892461 0.21322593 0.28874894]\n"
     ]
    }
   ],
   "source": [
    "axis_angle_from_quaternion = rotation_quaternion.as_rotvec()\n",
    "print(\"Axis-Angle from Quaternion:\", axis_angle_from_quaternion)"
   ]
  },
  {
   "cell_type": "markdown",
   "id": "7acc1588",
   "metadata": {},
   "source": [
    "### 6. Axis-Angle to Quaternion"
   ]
  },
  {
   "cell_type": "code",
   "execution_count": 13,
   "id": "4d386369",
   "metadata": {},
   "outputs": [
    {
     "name": "stdout",
     "output_type": "stream",
     "text": [
      "Quaternion from Axis-Angle: [0.0342708  0.10602051 0.14357218 0.98334744]\n"
     ]
    }
   ],
   "source": [
    "quaternion_from_axis_angle = rotation_axis_angle.as_quat()\n",
    "print(\"Quaternion from Axis-Angle:\", quaternion_from_axis_angle)"
   ]
  }
 ],
 "metadata": {
  "kernelspec": {
   "display_name": "Python 3 (ipykernel)",
   "language": "python",
   "name": "python3"
  },
  "language_info": {
   "codemirror_mode": {
    "name": "ipython",
    "version": 3
   },
   "file_extension": ".py",
   "mimetype": "text/x-python",
   "name": "python",
   "nbconvert_exporter": "python",
   "pygments_lexer": "ipython3",
   "version": "3.11.4"
  }
 },
 "nbformat": 4,
 "nbformat_minor": 5
}
