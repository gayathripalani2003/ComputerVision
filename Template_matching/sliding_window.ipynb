{
 "cells": [
  {
   "cell_type": "markdown",
   "id": "2a6ffd56",
   "metadata": {},
   "source": [
    "## Template Matching by sliding window "
   ]
  },
  {
   "cell_type": "markdown",
   "id": "46ac2a12",
   "metadata": {},
   "source": [
    "####      \"\"Instead of using the template matching algorithm we can implement the program which find the location of block using basic image processing techniques like slide the block over the full image and compare each region.\"\"\""
   ]
  },
  {
   "cell_type": "markdown",
   "id": "fefcb818",
   "metadata": {},
   "source": [
    "#### Step 1: slide the full image at every possible location.\n",
    "#### Step 2: For each window in fulll_image.png that has the same dimension as block. png,compare the pixel value.\n",
    "#### Step 3: Calculate the matching score by squared differences to determine how well the block matches the region in full_image.png\n",
    "#### Step 4: Then we can find the position where most closely matches."
   ]
  },
  {
   "cell_type": "code",
   "execution_count": 5,
   "id": "24aa2dcd",
   "metadata": {},
   "outputs": [],
   "source": [
    "#Import the necessary Modules\n",
    "import cv2\n",
    "import numpy as np"
   ]
  },
  {
   "cell_type": "code",
   "execution_count": 10,
   "id": "1bfcd73e",
   "metadata": {},
   "outputs": [],
   "source": [
    "def find_block_in_image(full_image_path, block_image_path):\n",
    "    # Load the  full image and block image.\n",
    "    full_image = cv2.imread(full_image_path)\n",
    "    block_image = cv2.imread(block_image_path)\n",
    "\n",
    "    # Get dimensions of the block image\n",
    "    block_height, block_width = block_image.shape[:2] #As the shape contains height,width,channel, here we want only the height,width\n",
    "\n",
    "    # Initialize best match position and score\n",
    "    best_position = None\n",
    "    best_score = float('inf')  # Initialize to a large number (Used for SSD)\n",
    "\n",
    "    # Slide block over full_image\n",
    "    for y in range(full_image.shape[0] - block_height + 1):#Fixing the Height of the sliding window.\n",
    "        for x in range(full_image.shape[1] - block_width + 1):#Fixing the Widht of the sliding window.\n",
    "            window = full_image[y:y + block_height, x:x + block_width]\n",
    "            \n",
    "            # Perform comparison (e.g., sum of squared differences)\n",
    "            score = ((window - block_image) ** 2).sum()#SSD\n",
    "\n",
    "            if score < best_score:\n",
    "                best_score = score\n",
    "                best_position = (x, y)\n",
    "\n",
    "    return best_position, best_score\n"
   ]
  },
  {
   "cell_type": "code",
   "execution_count": 9,
   "id": "514a87a0",
   "metadata": {},
   "outputs": [
    {
     "name": "stdout",
     "output_type": "stream",
     "text": [
      "Block found at position: (275, 125) with score: 47015\n"
     ]
    }
   ],
   "source": [
    "full_image_path = 'photo_5120725040294375326_x.jpg'\n",
    "block_image_path = 'photo_5120725040294375325_m.jpg'\n",
    "position, score = find_block_in_image(full_image_path, block_image_path)\n",
    "\n",
    "if position:\n",
    "    print(f'Block found at position: {position} with score: {score}')\n",
    "else:\n",
    "    print('Block not found')"
   ]
  }
 ],
 "metadata": {
  "kernelspec": {
   "display_name": "Python 3 (ipykernel)",
   "language": "python",
   "name": "python3"
  },
  "language_info": {
   "codemirror_mode": {
    "name": "ipython",
    "version": 3
   },
   "file_extension": ".py",
   "mimetype": "text/x-python",
   "name": "python",
   "nbconvert_exporter": "python",
   "pygments_lexer": "ipython3",
   "version": "3.11.4"
  }
 },
 "nbformat": 4,
 "nbformat_minor": 5
}
